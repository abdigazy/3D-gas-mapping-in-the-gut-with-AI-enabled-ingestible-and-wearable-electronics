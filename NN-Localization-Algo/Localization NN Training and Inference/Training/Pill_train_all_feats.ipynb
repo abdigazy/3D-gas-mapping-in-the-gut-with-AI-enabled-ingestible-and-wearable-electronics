{
 "cells": [
  {
   "cell_type": "code",
   "execution_count": 63,
   "id": "96e53987-0eb4-4f8e-9d54-3c9715ed1241",
   "metadata": {
    "id": "96e53987-0eb4-4f8e-9d54-3c9715ed1241"
   },
   "outputs": [],
   "source": [
    "import pandas as pd"
   ]
  },
  {
   "cell_type": "code",
   "execution_count": 64,
   "id": "94976f90-e638-4e12-aafb-9bc1cfdcbbc7",
   "metadata": {
    "id": "94976f90-e638-4e12-aafb-9bc1cfdcbbc7"
   },
   "outputs": [],
   "source": [
    "data = pd.read_csv(\"trainingdata.csv\")"
   ]
  },
  {
   "cell_type": "code",
   "execution_count": 65,
   "id": "XnD2gT6MUzTi",
   "metadata": {
    "colab": {
     "base_uri": "https://localhost:8080/"
    },
    "id": "XnD2gT6MUzTi",
    "outputId": "76470d14-962d-4e64-e6d3-92b601658d4f"
   },
   "outputs": [
    {
     "data": {
      "text/plain": [
       "Index(['Z', 'Y', 'X', 'xBx', 'yBx', 'zBx', 'xBy', 'yBy', 'zBy', 'xBz', 'yBz',\n",
       "       'zBz', '|Bx+Bz|', '|By+Bz|', '|Bz|', 'Res'],\n",
       "      dtype='object')"
      ]
     },
     "execution_count": 65,
     "metadata": {},
     "output_type": "execute_result"
    }
   ],
   "source": [
    "data.columns"
   ]
  },
  {
   "cell_type": "code",
   "execution_count": 66,
   "id": "325d94f3-83dc-4779-ac8a-a711f0bc141f",
   "metadata": {
    "colab": {
     "base_uri": "https://localhost:8080/",
     "height": 487
    },
    "id": "325d94f3-83dc-4779-ac8a-a711f0bc141f",
    "outputId": "1cfa1ecf-fd61-484f-9ca5-3e2f984e0eb7",
    "scrolled": true
   },
   "outputs": [
    {
     "data": {
      "text/html": [
       "<div>\n",
       "<style scoped>\n",
       "    .dataframe tbody tr th:only-of-type {\n",
       "        vertical-align: middle;\n",
       "    }\n",
       "\n",
       "    .dataframe tbody tr th {\n",
       "        vertical-align: top;\n",
       "    }\n",
       "\n",
       "    .dataframe thead th {\n",
       "        text-align: right;\n",
       "    }\n",
       "</style>\n",
       "<table border=\"1\" class=\"dataframe\">\n",
       "  <thead>\n",
       "    <tr style=\"text-align: right;\">\n",
       "      <th></th>\n",
       "      <th>Z</th>\n",
       "      <th>Y</th>\n",
       "      <th>X</th>\n",
       "      <th>xBx</th>\n",
       "      <th>yBx</th>\n",
       "      <th>zBx</th>\n",
       "      <th>xBy</th>\n",
       "      <th>yBy</th>\n",
       "      <th>zBy</th>\n",
       "      <th>xBz</th>\n",
       "      <th>yBz</th>\n",
       "      <th>zBz</th>\n",
       "      <th>|Bx+Bz|</th>\n",
       "      <th>|By+Bz|</th>\n",
       "      <th>|Bz|</th>\n",
       "      <th>Res</th>\n",
       "    </tr>\n",
       "  </thead>\n",
       "  <tbody>\n",
       "    <tr>\n",
       "      <th>0</th>\n",
       "      <td>1</td>\n",
       "      <td>-10</td>\n",
       "      <td>-10</td>\n",
       "      <td>-4572</td>\n",
       "      <td>7293</td>\n",
       "      <td>5369</td>\n",
       "      <td>-6438</td>\n",
       "      <td>3463</td>\n",
       "      <td>2423</td>\n",
       "      <td>4955</td>\n",
       "      <td>-7471</td>\n",
       "      <td>-4097</td>\n",
       "      <td>1340.282433</td>\n",
       "      <td>4589.730820</td>\n",
       "      <td>9856.636089</td>\n",
       "      <td>12.16</td>\n",
       "    </tr>\n",
       "    <tr>\n",
       "      <th>1</th>\n",
       "      <td>1</td>\n",
       "      <td>-10</td>\n",
       "      <td>-9</td>\n",
       "      <td>-2522</td>\n",
       "      <td>9766</td>\n",
       "      <td>5232</td>\n",
       "      <td>-4732</td>\n",
       "      <td>6697</td>\n",
       "      <td>5441</td>\n",
       "      <td>2997</td>\n",
       "      <td>-10038</td>\n",
       "      <td>-3640</td>\n",
       "      <td>1683.470522</td>\n",
       "      <td>4173.260955</td>\n",
       "      <td>11090.223310</td>\n",
       "      <td>12.16</td>\n",
       "    </tr>\n",
       "    <tr>\n",
       "      <th>2</th>\n",
       "      <td>1</td>\n",
       "      <td>-10</td>\n",
       "      <td>-8</td>\n",
       "      <td>-1306</td>\n",
       "      <td>10870</td>\n",
       "      <td>4514</td>\n",
       "      <td>-2653</td>\n",
       "      <td>9487</td>\n",
       "      <td>5611</td>\n",
       "      <td>1960</td>\n",
       "      <td>-11247</td>\n",
       "      <td>-2519</td>\n",
       "      <td>2133.042428</td>\n",
       "      <td>3624.681089</td>\n",
       "      <td>11691.106450</td>\n",
       "      <td>12.16</td>\n",
       "    </tr>\n",
       "    <tr>\n",
       "      <th>3</th>\n",
       "      <td>1</td>\n",
       "      <td>-10</td>\n",
       "      <td>-7</td>\n",
       "      <td>-440</td>\n",
       "      <td>11187</td>\n",
       "      <td>4114</td>\n",
       "      <td>-1487</td>\n",
       "      <td>10871</td>\n",
       "      <td>4759</td>\n",
       "      <td>1392</td>\n",
       "      <td>-11744</td>\n",
       "      <td>-1597</td>\n",
       "      <td>2748.061499</td>\n",
       "      <td>3281.676096</td>\n",
       "      <td>11933.549720</td>\n",
       "      <td>12.16</td>\n",
       "    </tr>\n",
       "    <tr>\n",
       "      <th>4</th>\n",
       "      <td>1</td>\n",
       "      <td>-10</td>\n",
       "      <td>-6</td>\n",
       "      <td>364</td>\n",
       "      <td>11056</td>\n",
       "      <td>4156</td>\n",
       "      <td>-890</td>\n",
       "      <td>11530</td>\n",
       "      <td>4005</td>\n",
       "      <td>1066</td>\n",
       "      <td>-11957</td>\n",
       "      <td>-969</td>\n",
       "      <td>3607.446465</td>\n",
       "      <td>3070.928361</td>\n",
       "      <td>12043.469850</td>\n",
       "      <td>12.16</td>\n",
       "    </tr>\n",
       "    <tr>\n",
       "      <th>...</th>\n",
       "      <td>...</td>\n",
       "      <td>...</td>\n",
       "      <td>...</td>\n",
       "      <td>...</td>\n",
       "      <td>...</td>\n",
       "      <td>...</td>\n",
       "      <td>...</td>\n",
       "      <td>...</td>\n",
       "      <td>...</td>\n",
       "      <td>...</td>\n",
       "      <td>...</td>\n",
       "      <td>...</td>\n",
       "      <td>...</td>\n",
       "      <td>...</td>\n",
       "      <td>...</td>\n",
       "      <td>...</td>\n",
       "    </tr>\n",
       "    <tr>\n",
       "      <th>31747</th>\n",
       "      <td>21</td>\n",
       "      <td>10</td>\n",
       "      <td>6</td>\n",
       "      <td>66</td>\n",
       "      <td>49</td>\n",
       "      <td>-120</td>\n",
       "      <td>-64</td>\n",
       "      <td>-30</td>\n",
       "      <td>-233</td>\n",
       "      <td>-232</td>\n",
       "      <td>338</td>\n",
       "      <td>-537</td>\n",
       "      <td>780.367862</td>\n",
       "      <td>880.556642</td>\n",
       "      <td>675.601214</td>\n",
       "      <td>10.40</td>\n",
       "    </tr>\n",
       "    <tr>\n",
       "      <th>31748</th>\n",
       "      <td>21</td>\n",
       "      <td>10</td>\n",
       "      <td>7</td>\n",
       "      <td>38</td>\n",
       "      <td>59</td>\n",
       "      <td>-106</td>\n",
       "      <td>-75</td>\n",
       "      <td>-39</td>\n",
       "      <td>-197</td>\n",
       "      <td>-270</td>\n",
       "      <td>322</td>\n",
       "      <td>-505</td>\n",
       "      <td>756.509088</td>\n",
       "      <td>831.816085</td>\n",
       "      <td>656.969558</td>\n",
       "      <td>10.40</td>\n",
       "    </tr>\n",
       "    <tr>\n",
       "      <th>31749</th>\n",
       "      <td>21</td>\n",
       "      <td>10</td>\n",
       "      <td>8</td>\n",
       "      <td>15</td>\n",
       "      <td>59</td>\n",
       "      <td>-118</td>\n",
       "      <td>-90</td>\n",
       "      <td>-35</td>\n",
       "      <td>-180</td>\n",
       "      <td>-283</td>\n",
       "      <td>310</td>\n",
       "      <td>-471</td>\n",
       "      <td>744.920130</td>\n",
       "      <td>799.096365</td>\n",
       "      <td>630.896188</td>\n",
       "      <td>10.40</td>\n",
       "    </tr>\n",
       "    <tr>\n",
       "      <th>31750</th>\n",
       "      <td>21</td>\n",
       "      <td>10</td>\n",
       "      <td>9</td>\n",
       "      <td>-12</td>\n",
       "      <td>60</td>\n",
       "      <td>-110</td>\n",
       "      <td>-100</td>\n",
       "      <td>-32</td>\n",
       "      <td>-167</td>\n",
       "      <td>-317</td>\n",
       "      <td>287</td>\n",
       "      <td>-432</td>\n",
       "      <td>722.782125</td>\n",
       "      <td>773.120301</td>\n",
       "      <td>607.850310</td>\n",
       "      <td>10.40</td>\n",
       "    </tr>\n",
       "    <tr>\n",
       "      <th>31751</th>\n",
       "      <td>21</td>\n",
       "      <td>10</td>\n",
       "      <td>10</td>\n",
       "      <td>-24</td>\n",
       "      <td>61</td>\n",
       "      <td>-113</td>\n",
       "      <td>-91</td>\n",
       "      <td>-32</td>\n",
       "      <td>-149</td>\n",
       "      <td>-330</td>\n",
       "      <td>274</td>\n",
       "      <td>-384</td>\n",
       "      <td>696.096258</td>\n",
       "      <td>721.036754</td>\n",
       "      <td>575.701311</td>\n",
       "      <td>10.40</td>\n",
       "    </tr>\n",
       "  </tbody>\n",
       "</table>\n",
       "<p>31752 rows × 16 columns</p>\n",
       "</div>"
      ],
      "text/plain": [
       "        Z   Y   X   xBx    yBx   zBx   xBy    yBy   zBy   xBz    yBz   zBz  \\\n",
       "0       1 -10 -10 -4572   7293  5369 -6438   3463  2423  4955  -7471 -4097   \n",
       "1       1 -10  -9 -2522   9766  5232 -4732   6697  5441  2997 -10038 -3640   \n",
       "2       1 -10  -8 -1306  10870  4514 -2653   9487  5611  1960 -11247 -2519   \n",
       "3       1 -10  -7  -440  11187  4114 -1487  10871  4759  1392 -11744 -1597   \n",
       "4       1 -10  -6   364  11056  4156  -890  11530  4005  1066 -11957  -969   \n",
       "...    ..  ..  ..   ...    ...   ...   ...    ...   ...   ...    ...   ...   \n",
       "31747  21  10   6    66     49  -120   -64    -30  -233  -232    338  -537   \n",
       "31748  21  10   7    38     59  -106   -75    -39  -197  -270    322  -505   \n",
       "31749  21  10   8    15     59  -118   -90    -35  -180  -283    310  -471   \n",
       "31750  21  10   9   -12     60  -110  -100    -32  -167  -317    287  -432   \n",
       "31751  21  10  10   -24     61  -113   -91    -32  -149  -330    274  -384   \n",
       "\n",
       "           |Bx+Bz|      |By+Bz|          |Bz|    Res  \n",
       "0      1340.282433  4589.730820   9856.636089  12.16  \n",
       "1      1683.470522  4173.260955  11090.223310  12.16  \n",
       "2      2133.042428  3624.681089  11691.106450  12.16  \n",
       "3      2748.061499  3281.676096  11933.549720  12.16  \n",
       "4      3607.446465  3070.928361  12043.469850  12.16  \n",
       "...            ...          ...           ...    ...  \n",
       "31747   780.367862   880.556642    675.601214  10.40  \n",
       "31748   756.509088   831.816085    656.969558  10.40  \n",
       "31749   744.920130   799.096365    630.896188  10.40  \n",
       "31750   722.782125   773.120301    607.850310  10.40  \n",
       "31751   696.096258   721.036754    575.701311  10.40  \n",
       "\n",
       "[31752 rows x 16 columns]"
      ]
     },
     "execution_count": 66,
     "metadata": {},
     "output_type": "execute_result"
    }
   ],
   "source": [
    "data"
   ]
  },
  {
   "cell_type": "code",
   "execution_count": 67,
   "id": "786008bb-368e-4a41-b147-6c97c1d5e233",
   "metadata": {
    "id": "786008bb-368e-4a41-b147-6c97c1d5e233"
   },
   "outputs": [],
   "source": [
    "from tensorflow.keras.models import Sequential\n",
    "from tensorflow.keras.layers import Dense\n",
    "from tensorflow.keras.losses import MeanSquaredError as mse\n",
    "from sklearn.preprocessing import StandardScaler\n",
    "from sklearn.model_selection import train_test_split\n",
    "from sklearn import preprocessing"
   ]
  },
  {
   "cell_type": "code",
   "execution_count": 68,
   "id": "3f52532b-ea81-4422-ac06-bd20963ea268",
   "metadata": {
    "id": "3f52532b-ea81-4422-ac06-bd20963ea268"
   },
   "outputs": [],
   "source": [
    "X = data.copy()\n",
    "X=data[['xBx', 'yBx', 'zBx', 'xBy', 'yBy', 'zBy', 'xBz', 'yBz', 'zBz',\"|Bx+Bz|\",\"|By+Bz|\",\"|Bz|\", \"Res\"]]"
   ]
  },
  {
   "cell_type": "code",
   "execution_count": 69,
   "id": "a2e91d30-a340-437a-b6b9-8dcb0a72a04a",
   "metadata": {
    "colab": {
     "base_uri": "https://localhost:8080/",
     "height": 467
    },
    "id": "a2e91d30-a340-437a-b6b9-8dcb0a72a04a",
    "outputId": "f857c60a-ec89-425f-c3d8-15731fcd6b9a"
   },
   "outputs": [
    {
     "data": {
      "text/html": [
       "<div>\n",
       "<style scoped>\n",
       "    .dataframe tbody tr th:only-of-type {\n",
       "        vertical-align: middle;\n",
       "    }\n",
       "\n",
       "    .dataframe tbody tr th {\n",
       "        vertical-align: top;\n",
       "    }\n",
       "\n",
       "    .dataframe thead th {\n",
       "        text-align: right;\n",
       "    }\n",
       "</style>\n",
       "<table border=\"1\" class=\"dataframe\">\n",
       "  <thead>\n",
       "    <tr style=\"text-align: right;\">\n",
       "      <th></th>\n",
       "      <th>xBx</th>\n",
       "      <th>yBx</th>\n",
       "      <th>zBx</th>\n",
       "      <th>xBy</th>\n",
       "      <th>yBy</th>\n",
       "      <th>zBy</th>\n",
       "      <th>xBz</th>\n",
       "      <th>yBz</th>\n",
       "      <th>zBz</th>\n",
       "      <th>|Bx+Bz|</th>\n",
       "      <th>|By+Bz|</th>\n",
       "      <th>|Bz|</th>\n",
       "      <th>Res</th>\n",
       "    </tr>\n",
       "  </thead>\n",
       "  <tbody>\n",
       "    <tr>\n",
       "      <th>0</th>\n",
       "      <td>-4572</td>\n",
       "      <td>7293</td>\n",
       "      <td>5369</td>\n",
       "      <td>-6438</td>\n",
       "      <td>3463</td>\n",
       "      <td>2423</td>\n",
       "      <td>4955</td>\n",
       "      <td>-7471</td>\n",
       "      <td>-4097</td>\n",
       "      <td>1340.282433</td>\n",
       "      <td>4589.730820</td>\n",
       "      <td>9856.636089</td>\n",
       "      <td>12.16</td>\n",
       "    </tr>\n",
       "    <tr>\n",
       "      <th>1</th>\n",
       "      <td>-2522</td>\n",
       "      <td>9766</td>\n",
       "      <td>5232</td>\n",
       "      <td>-4732</td>\n",
       "      <td>6697</td>\n",
       "      <td>5441</td>\n",
       "      <td>2997</td>\n",
       "      <td>-10038</td>\n",
       "      <td>-3640</td>\n",
       "      <td>1683.470522</td>\n",
       "      <td>4173.260955</td>\n",
       "      <td>11090.223310</td>\n",
       "      <td>12.16</td>\n",
       "    </tr>\n",
       "    <tr>\n",
       "      <th>2</th>\n",
       "      <td>-1306</td>\n",
       "      <td>10870</td>\n",
       "      <td>4514</td>\n",
       "      <td>-2653</td>\n",
       "      <td>9487</td>\n",
       "      <td>5611</td>\n",
       "      <td>1960</td>\n",
       "      <td>-11247</td>\n",
       "      <td>-2519</td>\n",
       "      <td>2133.042428</td>\n",
       "      <td>3624.681089</td>\n",
       "      <td>11691.106450</td>\n",
       "      <td>12.16</td>\n",
       "    </tr>\n",
       "    <tr>\n",
       "      <th>3</th>\n",
       "      <td>-440</td>\n",
       "      <td>11187</td>\n",
       "      <td>4114</td>\n",
       "      <td>-1487</td>\n",
       "      <td>10871</td>\n",
       "      <td>4759</td>\n",
       "      <td>1392</td>\n",
       "      <td>-11744</td>\n",
       "      <td>-1597</td>\n",
       "      <td>2748.061499</td>\n",
       "      <td>3281.676096</td>\n",
       "      <td>11933.549720</td>\n",
       "      <td>12.16</td>\n",
       "    </tr>\n",
       "    <tr>\n",
       "      <th>4</th>\n",
       "      <td>364</td>\n",
       "      <td>11056</td>\n",
       "      <td>4156</td>\n",
       "      <td>-890</td>\n",
       "      <td>11530</td>\n",
       "      <td>4005</td>\n",
       "      <td>1066</td>\n",
       "      <td>-11957</td>\n",
       "      <td>-969</td>\n",
       "      <td>3607.446465</td>\n",
       "      <td>3070.928361</td>\n",
       "      <td>12043.469850</td>\n",
       "      <td>12.16</td>\n",
       "    </tr>\n",
       "    <tr>\n",
       "      <th>...</th>\n",
       "      <td>...</td>\n",
       "      <td>...</td>\n",
       "      <td>...</td>\n",
       "      <td>...</td>\n",
       "      <td>...</td>\n",
       "      <td>...</td>\n",
       "      <td>...</td>\n",
       "      <td>...</td>\n",
       "      <td>...</td>\n",
       "      <td>...</td>\n",
       "      <td>...</td>\n",
       "      <td>...</td>\n",
       "      <td>...</td>\n",
       "    </tr>\n",
       "    <tr>\n",
       "      <th>31747</th>\n",
       "      <td>66</td>\n",
       "      <td>49</td>\n",
       "      <td>-120</td>\n",
       "      <td>-64</td>\n",
       "      <td>-30</td>\n",
       "      <td>-233</td>\n",
       "      <td>-232</td>\n",
       "      <td>338</td>\n",
       "      <td>-537</td>\n",
       "      <td>780.367862</td>\n",
       "      <td>880.556642</td>\n",
       "      <td>675.601214</td>\n",
       "      <td>10.40</td>\n",
       "    </tr>\n",
       "    <tr>\n",
       "      <th>31748</th>\n",
       "      <td>38</td>\n",
       "      <td>59</td>\n",
       "      <td>-106</td>\n",
       "      <td>-75</td>\n",
       "      <td>-39</td>\n",
       "      <td>-197</td>\n",
       "      <td>-270</td>\n",
       "      <td>322</td>\n",
       "      <td>-505</td>\n",
       "      <td>756.509088</td>\n",
       "      <td>831.816085</td>\n",
       "      <td>656.969558</td>\n",
       "      <td>10.40</td>\n",
       "    </tr>\n",
       "    <tr>\n",
       "      <th>31749</th>\n",
       "      <td>15</td>\n",
       "      <td>59</td>\n",
       "      <td>-118</td>\n",
       "      <td>-90</td>\n",
       "      <td>-35</td>\n",
       "      <td>-180</td>\n",
       "      <td>-283</td>\n",
       "      <td>310</td>\n",
       "      <td>-471</td>\n",
       "      <td>744.920130</td>\n",
       "      <td>799.096365</td>\n",
       "      <td>630.896188</td>\n",
       "      <td>10.40</td>\n",
       "    </tr>\n",
       "    <tr>\n",
       "      <th>31750</th>\n",
       "      <td>-12</td>\n",
       "      <td>60</td>\n",
       "      <td>-110</td>\n",
       "      <td>-100</td>\n",
       "      <td>-32</td>\n",
       "      <td>-167</td>\n",
       "      <td>-317</td>\n",
       "      <td>287</td>\n",
       "      <td>-432</td>\n",
       "      <td>722.782125</td>\n",
       "      <td>773.120301</td>\n",
       "      <td>607.850310</td>\n",
       "      <td>10.40</td>\n",
       "    </tr>\n",
       "    <tr>\n",
       "      <th>31751</th>\n",
       "      <td>-24</td>\n",
       "      <td>61</td>\n",
       "      <td>-113</td>\n",
       "      <td>-91</td>\n",
       "      <td>-32</td>\n",
       "      <td>-149</td>\n",
       "      <td>-330</td>\n",
       "      <td>274</td>\n",
       "      <td>-384</td>\n",
       "      <td>696.096258</td>\n",
       "      <td>721.036754</td>\n",
       "      <td>575.701311</td>\n",
       "      <td>10.40</td>\n",
       "    </tr>\n",
       "  </tbody>\n",
       "</table>\n",
       "<p>31752 rows × 13 columns</p>\n",
       "</div>"
      ],
      "text/plain": [
       "        xBx    yBx   zBx   xBy    yBy   zBy   xBz    yBz   zBz      |Bx+Bz|  \\\n",
       "0     -4572   7293  5369 -6438   3463  2423  4955  -7471 -4097  1340.282433   \n",
       "1     -2522   9766  5232 -4732   6697  5441  2997 -10038 -3640  1683.470522   \n",
       "2     -1306  10870  4514 -2653   9487  5611  1960 -11247 -2519  2133.042428   \n",
       "3      -440  11187  4114 -1487  10871  4759  1392 -11744 -1597  2748.061499   \n",
       "4       364  11056  4156  -890  11530  4005  1066 -11957  -969  3607.446465   \n",
       "...     ...    ...   ...   ...    ...   ...   ...    ...   ...          ...   \n",
       "31747    66     49  -120   -64    -30  -233  -232    338  -537   780.367862   \n",
       "31748    38     59  -106   -75    -39  -197  -270    322  -505   756.509088   \n",
       "31749    15     59  -118   -90    -35  -180  -283    310  -471   744.920130   \n",
       "31750   -12     60  -110  -100    -32  -167  -317    287  -432   722.782125   \n",
       "31751   -24     61  -113   -91    -32  -149  -330    274  -384   696.096258   \n",
       "\n",
       "           |By+Bz|          |Bz|    Res  \n",
       "0      4589.730820   9856.636089  12.16  \n",
       "1      4173.260955  11090.223310  12.16  \n",
       "2      3624.681089  11691.106450  12.16  \n",
       "3      3281.676096  11933.549720  12.16  \n",
       "4      3070.928361  12043.469850  12.16  \n",
       "...            ...           ...    ...  \n",
       "31747   880.556642    675.601214  10.40  \n",
       "31748   831.816085    656.969558  10.40  \n",
       "31749   799.096365    630.896188  10.40  \n",
       "31750   773.120301    607.850310  10.40  \n",
       "31751   721.036754    575.701311  10.40  \n",
       "\n",
       "[31752 rows x 13 columns]"
      ]
     },
     "execution_count": 69,
     "metadata": {},
     "output_type": "execute_result"
    }
   ],
   "source": [
    "X"
   ]
  },
  {
   "cell_type": "code",
   "execution_count": 70,
   "id": "8007f641-9497-4eab-85a3-98b289843fc3",
   "metadata": {
    "id": "8007f641-9497-4eab-85a3-98b289843fc3"
   },
   "outputs": [
    {
     "data": {
      "text/html": [
       "<div>\n",
       "<style scoped>\n",
       "    .dataframe tbody tr th:only-of-type {\n",
       "        vertical-align: middle;\n",
       "    }\n",
       "\n",
       "    .dataframe tbody tr th {\n",
       "        vertical-align: top;\n",
       "    }\n",
       "\n",
       "    .dataframe thead th {\n",
       "        text-align: right;\n",
       "    }\n",
       "</style>\n",
       "<table border=\"1\" class=\"dataframe\">\n",
       "  <thead>\n",
       "    <tr style=\"text-align: right;\">\n",
       "      <th></th>\n",
       "      <th>X</th>\n",
       "      <th>Y</th>\n",
       "      <th>Z</th>\n",
       "    </tr>\n",
       "  </thead>\n",
       "  <tbody>\n",
       "    <tr>\n",
       "      <th>0</th>\n",
       "      <td>-10</td>\n",
       "      <td>-10</td>\n",
       "      <td>1</td>\n",
       "    </tr>\n",
       "    <tr>\n",
       "      <th>1</th>\n",
       "      <td>-9</td>\n",
       "      <td>-10</td>\n",
       "      <td>1</td>\n",
       "    </tr>\n",
       "    <tr>\n",
       "      <th>2</th>\n",
       "      <td>-8</td>\n",
       "      <td>-10</td>\n",
       "      <td>1</td>\n",
       "    </tr>\n",
       "    <tr>\n",
       "      <th>3</th>\n",
       "      <td>-7</td>\n",
       "      <td>-10</td>\n",
       "      <td>1</td>\n",
       "    </tr>\n",
       "    <tr>\n",
       "      <th>4</th>\n",
       "      <td>-6</td>\n",
       "      <td>-10</td>\n",
       "      <td>1</td>\n",
       "    </tr>\n",
       "    <tr>\n",
       "      <th>...</th>\n",
       "      <td>...</td>\n",
       "      <td>...</td>\n",
       "      <td>...</td>\n",
       "    </tr>\n",
       "    <tr>\n",
       "      <th>31747</th>\n",
       "      <td>6</td>\n",
       "      <td>10</td>\n",
       "      <td>21</td>\n",
       "    </tr>\n",
       "    <tr>\n",
       "      <th>31748</th>\n",
       "      <td>7</td>\n",
       "      <td>10</td>\n",
       "      <td>21</td>\n",
       "    </tr>\n",
       "    <tr>\n",
       "      <th>31749</th>\n",
       "      <td>8</td>\n",
       "      <td>10</td>\n",
       "      <td>21</td>\n",
       "    </tr>\n",
       "    <tr>\n",
       "      <th>31750</th>\n",
       "      <td>9</td>\n",
       "      <td>10</td>\n",
       "      <td>21</td>\n",
       "    </tr>\n",
       "    <tr>\n",
       "      <th>31751</th>\n",
       "      <td>10</td>\n",
       "      <td>10</td>\n",
       "      <td>21</td>\n",
       "    </tr>\n",
       "  </tbody>\n",
       "</table>\n",
       "<p>31752 rows × 3 columns</p>\n",
       "</div>"
      ],
      "text/plain": [
       "        X   Y   Z\n",
       "0     -10 -10   1\n",
       "1      -9 -10   1\n",
       "2      -8 -10   1\n",
       "3      -7 -10   1\n",
       "4      -6 -10   1\n",
       "...    ..  ..  ..\n",
       "31747   6  10  21\n",
       "31748   7  10  21\n",
       "31749   8  10  21\n",
       "31750   9  10  21\n",
       "31751  10  10  21\n",
       "\n",
       "[31752 rows x 3 columns]"
      ]
     },
     "execution_count": 70,
     "metadata": {},
     "output_type": "execute_result"
    }
   ],
   "source": [
    "y = data[[\"X\",\"Y\",\"Z\"]]\n",
    "y"
   ]
  },
  {
   "cell_type": "code",
   "execution_count": 71,
   "id": "d30d6ca7-8fb8-49e8-aa2d-6315a4b4552d",
   "metadata": {
    "id": "d30d6ca7-8fb8-49e8-aa2d-6315a4b4552d"
   },
   "outputs": [],
   "source": [
    "#X_train, X_test, y_train, y_test = train_test_split(X, y, random_state=42,test_size = 0.3, shuffle=True)\n",
    "X_train=X\n",
    "y_train=y"
   ]
  },
  {
   "cell_type": "code",
   "execution_count": null,
   "id": "4f49f1d0",
   "metadata": {},
   "outputs": [],
   "source": []
  },
  {
   "cell_type": "code",
   "execution_count": 72,
   "id": "cd94cdde-9f3c-46a4-bede-5893a5f375c4",
   "metadata": {
    "id": "cd94cdde-9f3c-46a4-bede-5893a5f375c4"
   },
   "outputs": [],
   "source": [
    "scaler = preprocessing.StandardScaler().fit(X_train)"
   ]
  },
  {
   "cell_type": "code",
   "execution_count": 73,
   "id": "8b3d2332-db0a-47b6-89f3-74ef65c6873d",
   "metadata": {
    "id": "8b3d2332-db0a-47b6-89f3-74ef65c6873d"
   },
   "outputs": [],
   "source": [
    "X_scaled = scaler.transform(X_train)"
   ]
  },
  {
   "cell_type": "code",
   "execution_count": 74,
   "id": "d1e7d66c-5d94-413e-8638-c1ca1883e8bf",
   "metadata": {
    "id": "d1e7d66c-5d94-413e-8638-c1ca1883e8bf"
   },
   "outputs": [],
   "source": [
    "# define the keras model\n",
    "model = Sequential()\n",
    "model.add(Dense(32, input_shape=(13,), activation='relu'))\n",
    "model.add(Dense(16, activation='relu'))\n",
    "model.add(Dense(8, activation='relu'))\n",
    "model.add(Dense(3))"
   ]
  },
  {
   "cell_type": "code",
   "execution_count": 75,
   "id": "9e573baf-f642-48e2-9132-5b7c2ac6661a",
   "metadata": {
    "id": "9e573baf-f642-48e2-9132-5b7c2ac6661a"
   },
   "outputs": [],
   "source": [
    "# compile the keras model\n",
    "model.compile(loss=\"mse\", optimizer='adam', metrics=['accuracy'])"
   ]
  },
  {
   "cell_type": "code",
   "execution_count": 76,
   "id": "71eb9809-3aaf-481a-af87-12f35a163b37",
   "metadata": {
    "colab": {
     "base_uri": "https://localhost:8080/"
    },
    "id": "71eb9809-3aaf-481a-af87-12f35a163b37",
    "outputId": "0f8479d5-524f-49dd-fae4-f26897c63f94"
   },
   "outputs": [
    {
     "data": {
      "text/plain": [
       "(31752, 13)"
      ]
     },
     "execution_count": 76,
     "metadata": {},
     "output_type": "execute_result"
    }
   ],
   "source": [
    "X_scaled.shape"
   ]
  },
  {
   "cell_type": "code",
   "execution_count": 77,
   "id": "8b1d8f4e-30d4-4235-ac85-299b7f9f8b65",
   "metadata": {
    "colab": {
     "base_uri": "https://localhost:8080/"
    },
    "id": "8b1d8f4e-30d4-4235-ac85-299b7f9f8b65",
    "outputId": "4739e8e1-4653-403d-d971-45d676d2d8f7",
    "tags": []
   },
   "outputs": [
    {
     "name": "stdout",
     "output_type": "stream",
     "text": [
      "Epoch 1/60\n",
      "3176/3176 [==============================] - 4s 1ms/step - loss: 8.0974 - accuracy: 0.9471\n",
      "Epoch 2/60\n",
      "3176/3176 [==============================] - 3s 1ms/step - loss: 0.4837 - accuracy: 0.9764\n",
      "Epoch 3/60\n",
      "3176/3176 [==============================] - 3s 1ms/step - loss: 0.3005 - accuracy: 0.9782\n",
      "Epoch 4/60\n",
      "3176/3176 [==============================] - 3s 1ms/step - loss: 0.2198 - accuracy: 0.9781\n",
      "Epoch 5/60\n",
      "3176/3176 [==============================] - 3s 1ms/step - loss: 0.1804 - accuracy: 0.9784\n",
      "Epoch 6/60\n",
      "3176/3176 [==============================] - 3s 1ms/step - loss: 0.1592 - accuracy: 0.9785\n",
      "Epoch 7/60\n",
      "3176/3176 [==============================] - 3s 1ms/step - loss: 0.1428 - accuracy: 0.9792\n",
      "Epoch 8/60\n",
      "3176/3176 [==============================] - 4s 1ms/step - loss: 0.1305 - accuracy: 0.9802\n",
      "Epoch 9/60\n",
      "3176/3176 [==============================] - 3s 1ms/step - loss: 0.1224 - accuracy: 0.9803\n",
      "Epoch 10/60\n",
      "3176/3176 [==============================] - 3s 1ms/step - loss: 0.1138 - accuracy: 0.9809\n",
      "Epoch 11/60\n",
      "3176/3176 [==============================] - 3s 1ms/step - loss: 0.1084 - accuracy: 0.9811\n",
      "Epoch 12/60\n",
      "3176/3176 [==============================] - 3s 1ms/step - loss: 0.1041 - accuracy: 0.9807\n",
      "Epoch 13/60\n",
      "3176/3176 [==============================] - 3s 1ms/step - loss: 0.1014 - accuracy: 0.9814\n",
      "Epoch 14/60\n",
      "3176/3176 [==============================] - 3s 1ms/step - loss: 0.0979 - accuracy: 0.9811\n",
      "Epoch 15/60\n",
      "3176/3176 [==============================] - 3s 1ms/step - loss: 0.0957 - accuracy: 0.9807\n",
      "Epoch 16/60\n",
      "3176/3176 [==============================] - 3s 1ms/step - loss: 0.0931 - accuracy: 0.9809\n",
      "Epoch 17/60\n",
      "3176/3176 [==============================] - 3s 1ms/step - loss: 0.0915 - accuracy: 0.9814\n",
      "Epoch 18/60\n",
      "3176/3176 [==============================] - 3s 1ms/step - loss: 0.0887 - accuracy: 0.9810\n",
      "Epoch 19/60\n",
      "3176/3176 [==============================] - 3s 1ms/step - loss: 0.0866 - accuracy: 0.9820\n",
      "Epoch 20/60\n",
      "3176/3176 [==============================] - 3s 1ms/step - loss: 0.0861 - accuracy: 0.9818\n",
      "Epoch 21/60\n",
      "3176/3176 [==============================] - 3s 1ms/step - loss: 0.0847 - accuracy: 0.9816\n",
      "Epoch 22/60\n",
      "3176/3176 [==============================] - 3s 1ms/step - loss: 0.0822 - accuracy: 0.9816\n",
      "Epoch 23/60\n",
      "3176/3176 [==============================] - 3s 1ms/step - loss: 0.0821 - accuracy: 0.9815\n",
      "Epoch 24/60\n",
      "3176/3176 [==============================] - 3s 1ms/step - loss: 0.0802 - accuracy: 0.9822\n",
      "Epoch 25/60\n",
      "3176/3176 [==============================] - 3s 1ms/step - loss: 0.0787 - accuracy: 0.9819\n",
      "Epoch 26/60\n",
      "3176/3176 [==============================] - 3s 1ms/step - loss: 0.0785 - accuracy: 0.9821\n",
      "Epoch 27/60\n",
      "3176/3176 [==============================] - 3s 1ms/step - loss: 0.0773 - accuracy: 0.9825\n",
      "Epoch 28/60\n",
      "3176/3176 [==============================] - 3s 1ms/step - loss: 0.0758 - accuracy: 0.9818\n",
      "Epoch 29/60\n",
      "3176/3176 [==============================] - 3s 1ms/step - loss: 0.0759 - accuracy: 0.9827\n",
      "Epoch 30/60\n",
      "3176/3176 [==============================] - 3s 1ms/step - loss: 0.0750 - accuracy: 0.9820\n",
      "Epoch 31/60\n",
      "3176/3176 [==============================] - 3s 1ms/step - loss: 0.0739 - accuracy: 0.9826\n",
      "Epoch 32/60\n",
      "3176/3176 [==============================] - 3s 1ms/step - loss: 0.0734 - accuracy: 0.9825\n",
      "Epoch 33/60\n",
      "3176/3176 [==============================] - 3s 1ms/step - loss: 0.0732 - accuracy: 0.9822\n",
      "Epoch 34/60\n",
      "3176/3176 [==============================] - 3s 1ms/step - loss: 0.0727 - accuracy: 0.9827\n",
      "Epoch 35/60\n",
      "3176/3176 [==============================] - 3s 1ms/step - loss: 0.0716 - accuracy: 0.9823\n",
      "Epoch 36/60\n",
      "3176/3176 [==============================] - 3s 1ms/step - loss: 0.0710 - accuracy: 0.9824\n",
      "Epoch 37/60\n",
      "3176/3176 [==============================] - 3s 1ms/step - loss: 0.0701 - accuracy: 0.9820\n",
      "Epoch 38/60\n",
      "3176/3176 [==============================] - 3s 1ms/step - loss: 0.0695 - accuracy: 0.9826\n",
      "Epoch 39/60\n",
      "3176/3176 [==============================] - 3s 1ms/step - loss: 0.0672 - accuracy: 0.9824\n",
      "Epoch 40/60\n",
      "3176/3176 [==============================] - 3s 1ms/step - loss: 0.0645 - accuracy: 0.9824\n",
      "Epoch 41/60\n",
      "3176/3176 [==============================] - 3s 1ms/step - loss: 0.0634 - accuracy: 0.9827\n",
      "Epoch 42/60\n",
      "3176/3176 [==============================] - 3s 1ms/step - loss: 0.0622 - accuracy: 0.9825\n",
      "Epoch 43/60\n",
      "3176/3176 [==============================] - 3s 1ms/step - loss: 0.0612 - accuracy: 0.9824\n",
      "Epoch 44/60\n",
      "3176/3176 [==============================] - 3s 1ms/step - loss: 0.0601 - accuracy: 0.9824\n",
      "Epoch 45/60\n",
      "3176/3176 [==============================] - 3s 1ms/step - loss: 0.0599 - accuracy: 0.9831\n",
      "Epoch 46/60\n",
      "3176/3176 [==============================] - 3s 1ms/step - loss: 0.0590 - accuracy: 0.9822\n",
      "Epoch 47/60\n",
      "3176/3176 [==============================] - 3s 1ms/step - loss: 0.0586 - accuracy: 0.9825\n",
      "Epoch 48/60\n",
      "3176/3176 [==============================] - 3s 1ms/step - loss: 0.0579 - accuracy: 0.9825\n",
      "Epoch 49/60\n",
      "3176/3176 [==============================] - 3s 1ms/step - loss: 0.0574 - accuracy: 0.9835\n",
      "Epoch 50/60\n",
      "3176/3176 [==============================] - 3s 1ms/step - loss: 0.0567 - accuracy: 0.9824\n",
      "Epoch 51/60\n",
      "3176/3176 [==============================] - 3s 1ms/step - loss: 0.0566 - accuracy: 0.9823\n",
      "Epoch 52/60\n",
      "3176/3176 [==============================] - 3s 1ms/step - loss: 0.0567 - accuracy: 0.9829\n",
      "Epoch 53/60\n",
      "3176/3176 [==============================] - 3s 1000us/step - loss: 0.0560 - accuracy: 0.9828\n",
      "Epoch 54/60\n",
      "3176/3176 [==============================] - 3s 1ms/step - loss: 0.0552 - accuracy: 0.9827\n",
      "Epoch 55/60\n",
      "3176/3176 [==============================] - 3s 1ms/step - loss: 0.0554 - accuracy: 0.9822\n",
      "Epoch 56/60\n",
      "3176/3176 [==============================] - 3s 1ms/step - loss: 0.0547 - accuracy: 0.9823\n",
      "Epoch 57/60\n",
      "3176/3176 [==============================] - 3s 1ms/step - loss: 0.0547 - accuracy: 0.9824\n",
      "Epoch 58/60\n",
      "3176/3176 [==============================] - 3s 1ms/step - loss: 0.0539 - accuracy: 0.9829\n",
      "Epoch 59/60\n",
      "3176/3176 [==============================] - 3s 1ms/step - loss: 0.0539 - accuracy: 0.9827\n",
      "Epoch 60/60\n",
      "3176/3176 [==============================] - 3s 1ms/step - loss: 0.0533 - accuracy: 0.9822\n"
     ]
    },
    {
     "data": {
      "text/plain": [
       "<keras.callbacks.History at 0x247b6ef16c0>"
      ]
     },
     "execution_count": 77,
     "metadata": {},
     "output_type": "execute_result"
    }
   ],
   "source": [
    "model.fit(X_scaled, y_train, epochs=60, batch_size=10)"
   ]
  },
  {
   "cell_type": "code",
   "execution_count": 16,
   "id": "23a4c08f-8f3d-46c3-acee-56fbf41c930e",
   "metadata": {
    "id": "23a4c08f-8f3d-46c3-acee-56fbf41c930e"
   },
   "outputs": [],
   "source": [
    "X_scaled_test = scaler.transform(X_test)"
   ]
  },
  {
   "cell_type": "code",
   "execution_count": 17,
   "id": "4e21c76f-11c4-4116-bacc-959095613efc",
   "metadata": {
    "colab": {
     "base_uri": "https://localhost:8080/"
    },
    "id": "4e21c76f-11c4-4116-bacc-959095613efc",
    "outputId": "87325ae5-d9c1-415d-9ba4-3368dcbb26b2"
   },
   "outputs": [
    {
     "name": "stdout",
     "output_type": "stream",
     "text": [
      "298/298 [==============================] - 2s 4ms/step - loss: 0.1354 - accuracy: 0.9815\n",
      "Accuracy: 98.15\n"
     ]
    }
   ],
   "source": [
    "_, accuracy = model.evaluate(X_scaled_test, y_test)\n",
    "print('Accuracy: %.2f' % (accuracy*100))"
   ]
  },
  {
   "cell_type": "code",
   "execution_count": 18,
   "id": "c77cc019-e4e3-4f19-8bf8-9f56ba29c2b1",
   "metadata": {
    "colab": {
     "base_uri": "https://localhost:8080/"
    },
    "id": "c77cc019-e4e3-4f19-8bf8-9f56ba29c2b1",
    "outputId": "dc131789-f4c1-40a1-825a-fb515e288cab"
   },
   "outputs": [
    {
     "name": "stdout",
     "output_type": "stream",
     "text": [
      "298/298 [==============================] - 1s 3ms/step\n"
     ]
    },
    {
     "data": {
      "text/plain": [
       "array([[ 7.145322 , -3.1404798, 18.53619  ],\n",
       "       [ 1.6946925,  7.250298 ,  5.8175817],\n",
       "       [10.270876 ,  0.4874558,  7.029634 ],\n",
       "       ...,\n",
       "       [ 1.982786 , 10.586061 , 18.26147  ],\n",
       "       [-2.9047155, -7.636872 , 18.827883 ],\n",
       "       [-6.9297824, -3.6994774, 11.799559 ]], dtype=float32)"
      ]
     },
     "execution_count": 18,
     "metadata": {},
     "output_type": "execute_result"
    }
   ],
   "source": [
    "y_pred=model.predict(X_scaled_test)\n",
    "y_pred"
   ]
  },
  {
   "cell_type": "code",
   "execution_count": 19,
   "id": "12a6cdbf-6e9a-4112-a82c-978e3a9d9009",
   "metadata": {
    "id": "12a6cdbf-6e9a-4112-a82c-978e3a9d9009"
   },
   "outputs": [],
   "source": [
    "import numpy as np\n",
    "res=pd.DataFrame()\n",
    "res[['X','Y','Z']]=y_test\n",
    "res[['Xpred','Ypred','Zpred']]=y_pred\n",
    "res[['Xerror', 'Yerror', 'Zerror']]=np.subtract(y_pred,y_test)\n",
    "# res['N']=NEW_Test['N'].tolist()\n",
    "res['TotalError']=res.apply(lambda row: np.sqrt(row['Xerror']*row['Xerror'] + row['Yerror']*row['Yerror']+ row['Zerror']*row['Zerror']), axis=1)\n",
    "spool=res[['Z','Y','X','Zpred','Ypred','Xpred', 'Xerror', 'Yerror', 'Zerror', 'TotalError']]"
   ]
  },
  {
   "cell_type": "code",
   "execution_count": 20,
   "id": "TJbNSuidYg9I",
   "metadata": {
    "id": "TJbNSuidYg9I"
   },
   "outputs": [],
   "source": [
    "spool.to_csv('validation_results_allfeats.csv', index=False)"
   ]
  },
  {
   "cell_type": "code",
   "execution_count": 21,
   "id": "Z1KBVUGHYGdx",
   "metadata": {
    "colab": {
     "base_uri": "https://localhost:8080/",
     "height": 282
    },
    "id": "Z1KBVUGHYGdx",
    "outputId": "03b44a4c-7dc5-4538-8cc8-2efc46c943c5"
   },
   "outputs": [
    {
     "ename": "ModuleNotFoundError",
     "evalue": "No module named 'matplotlib'",
     "output_type": "error",
     "traceback": [
      "\u001b[1;31m---------------------------------------------------------------------------\u001b[0m",
      "\u001b[1;31mModuleNotFoundError\u001b[0m                       Traceback (most recent call last)",
      "Cell \u001b[1;32mIn[21], line 1\u001b[0m\n\u001b[1;32m----> 1\u001b[0m \u001b[38;5;28;01mimport\u001b[39;00m \u001b[38;5;21;01mmatplotlib\u001b[39;00m\u001b[38;5;21;01m.\u001b[39;00m\u001b[38;5;21;01mpyplot\u001b[39;00m \u001b[38;5;28;01mas\u001b[39;00m \u001b[38;5;21;01mplt\u001b[39;00m\n\u001b[0;32m      2\u001b[0m plt\u001b[38;5;241m.\u001b[39mscatter(res[\u001b[38;5;124m'\u001b[39m\u001b[38;5;124mX\u001b[39m\u001b[38;5;124m'\u001b[39m],res[\u001b[38;5;124m'\u001b[39m\u001b[38;5;124mXerror\u001b[39m\u001b[38;5;124m'\u001b[39m])\n",
      "\u001b[1;31mModuleNotFoundError\u001b[0m: No module named 'matplotlib'"
     ]
    }
   ],
   "source": [
    "import matplotlib.pyplot as plt\n",
    "plt.scatter(res['X'],res['Xerror'])"
   ]
  },
  {
   "cell_type": "code",
   "execution_count": null,
   "id": "IAM_nnQOYPEJ",
   "metadata": {
    "colab": {
     "base_uri": "https://localhost:8080/",
     "height": 282
    },
    "id": "IAM_nnQOYPEJ",
    "outputId": "7c95c275-a6f4-46c6-dbd0-18292c577818"
   },
   "outputs": [],
   "source": [
    "plt.scatter(res['Y'],res['Yerror'])"
   ]
  },
  {
   "cell_type": "code",
   "execution_count": 22,
   "id": "jUhZv52HYSgx",
   "metadata": {
    "colab": {
     "base_uri": "https://localhost:8080/",
     "height": 282
    },
    "id": "jUhZv52HYSgx",
    "outputId": "ecaa85de-6df0-4a01-e897-d8122c73ef36"
   },
   "outputs": [
    {
     "data": {
      "text/plain": [
       "<matplotlib.collections.PathCollection at 0x7fcd81d9f3a0>"
      ]
     },
     "execution_count": 22,
     "metadata": {},
     "output_type": "execute_result"
    },
    {
     "data": {
      "image/png": "[encoded data removed]",
      "text/plain": [
       "<Figure size 432x288 with 1 Axes>"
      ]
     },
     "metadata": {
      "needs_background": "light"
     },
     "output_type": "display_data"
    }
   ],
   "source": [
    "plt.scatter(res['Z'],res['Zerror'])"
   ]
  },
  {
   "cell_type": "code",
   "execution_count": 78,
   "id": "u8-Wakivd2UN",
   "metadata": {
    "id": "u8-Wakivd2UN"
   },
   "outputs": [],
   "source": [
    "model.save('modelallfeats.h5')"
   ]
  },
  {
   "cell_type": "code",
   "execution_count": null,
   "id": "f0d86a76",
   "metadata": {},
   "outputs": [],
   "source": []
  }
 ],
 "metadata": {
  "accelerator": "GPU",
  "colab": {
   "provenance": []
  },
  "gpuClass": "standard",
  "kernelspec": {
   "display_name": "Python 3 (ipykernel)",
   "language": "python",
   "name": "python3"
  },
  "language_info": {
   "codemirror_mode": {
    "name": "ipython",
    "version": 3
   },
   "file_extension": ".py",
   "mimetype": "text/x-python",
   "name": "python",
   "nbconvert_exporter": "python",
   "pygments_lexer": "ipython3",
   "version": "3.10.2"
  }
 },
 "nbformat": 4,
 "nbformat_minor": 5
}
